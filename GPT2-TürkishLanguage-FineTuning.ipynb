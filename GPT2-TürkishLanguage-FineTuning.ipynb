{
  "cells": [
    {
      "cell_type": "markdown",
      "metadata": {
        "colab_type": "text",
        "id": "YvdzTWzKLohV"
      },
      "source": [
        "Referanslar: \n",
        "- Veri: https://www.kaggle.com/mustfkeskin/turkish-wikipedia-dump#wiki_00\n",
        "- Kod: https://github.com/nshepperd/gpt-2.git\n",
        "- Notebook: https://github.com/ak9250/gpt-2-colab\n",
        "- Videolu Referans: https://www.youtube.com/watch?v=zZLIxB7e-Q8&t=1071s"
      ]
    },
    {
      "cell_type": "code",
      "execution_count": null,
      "metadata": {
        "colab": {
          "base_uri": "https://localhost:8080/",
          "height": 111
        },
        "colab_type": "code",
        "id": "ICYu3w9hIJkC",
        "outputId": "f312f0b7-23ac-456a-98af-c1fce1606bf2"
      },
      "outputs": [
        {
          "name": "stdout",
          "output_type": "stream",
          "text": [
            "Cloning into 'gpt-2'...\n",
            "remote: Enumerating objects: 297, done.\u001b[K\n",
            "remote: Total 297 (delta 0), reused 0 (delta 0), pack-reused 297\u001b[K\n",
            "Receiving objects: 100% (297/297), 4.40 MiB | 16.26 MiB/s, done.\n",
            "Resolving deltas: 100% (160/160), done.\n"
          ]
        }
      ],
      "source": [
        "!git clone https://github.com/nshepperd/gpt-2.git # Kodu colab'e klonlayalım"
      ]
    },
    {
      "cell_type": "code",
      "execution_count": null,
      "metadata": {
        "colab": {
          "base_uri": "https://localhost:8080/",
          "height": 36
        },
        "colab_type": "code",
        "id": "6eEIs3ApZUVO",
        "outputId": "6b30c71c-92a5-4242-b99e-58baa628e40a"
      },
      "outputs": [
        {
          "name": "stdout",
          "output_type": "stream",
          "text": [
            "/content/gpt-2\n"
          ]
        }
      ],
      "source": [
        "cd gpt-2 "
      ]
    },
    {
      "cell_type": "code",
      "execution_count": null,
      "metadata": {
        "colab": {
          "base_uri": "https://localhost:8080/",
          "height": 707
        },
        "colab_type": "code",
        "id": "434oOx0bZH6J",
        "outputId": "72750c14-3f89-4160-ea1f-9177673ace31"
      },
      "outputs": [
        {
          "name": "stdout",
          "output_type": "stream",
          "text": [
            "Collecting fire>=0.1.3 (from -r requirements.txt (line 1))\n",
            "\u001b[?25l  Downloading https://files.pythonhosted.org/packages/d9/69/faeaae8687f4de0f5973694d02e9d6c3eb827636a009157352d98de1129e/fire-0.2.1.tar.gz (76kB)\n",
            "\u001b[K     |████████████████████████████████| 81kB 3.8MB/s \n",
            "\u001b[?25hCollecting regex==2017.4.5 (from -r requirements.txt (line 2))\n",
            "\u001b[?25l  Downloading https://files.pythonhosted.org/packages/36/62/c0c0d762ffd4ffaf39f372eb8561b8d491a11ace5a7884610424a8b40f95/regex-2017.04.05.tar.gz (601kB)\n",
            "\u001b[K     |████████████████████████████████| 604kB 10.2MB/s \n",
            "\u001b[?25hRequirement already satisfied: requests==2.21.0 in /usr/local/lib/python3.6/dist-packages (from -r requirements.txt (line 3)) (2.21.0)\n",
            "Collecting tqdm==4.31.1 (from -r requirements.txt (line 4))\n",
            "\u001b[?25l  Downloading https://files.pythonhosted.org/packages/6c/4b/c38b5144cf167c4f52288517436ccafefe9dc01b8d1c190e18a6b154cd4a/tqdm-4.31.1-py2.py3-none-any.whl (48kB)\n",
            "\u001b[K     |████████████████████████████████| 51kB 25.1MB/s \n",
            "\u001b[?25hCollecting toposort==1.5 (from -r requirements.txt (line 5))\n",
            "  Downloading https://files.pythonhosted.org/packages/e9/8a/321cd8ea5f4a22a06e3ba30ef31ec33bea11a3443eeb1d89807640ee6ed4/toposort-1.5-py2.py3-none-any.whl\n",
            "Requirement already satisfied: six in /usr/local/lib/python3.6/dist-packages (from fire>=0.1.3->-r requirements.txt (line 1)) (1.12.0)\n",
            "Requirement already satisfied: termcolor in /usr/local/lib/python3.6/dist-packages (from fire>=0.1.3->-r requirements.txt (line 1)) (1.1.0)\n",
            "Requirement already satisfied: urllib3<1.25,>=1.21.1 in /usr/local/lib/python3.6/dist-packages (from requests==2.21.0->-r requirements.txt (line 3)) (1.24.3)\n",
            "Requirement already satisfied: certifi>=2017.4.17 in /usr/local/lib/python3.6/dist-packages (from requests==2.21.0->-r requirements.txt (line 3)) (2019.6.16)\n",
            "Requirement already satisfied: idna<2.9,>=2.5 in /usr/local/lib/python3.6/dist-packages (from requests==2.21.0->-r requirements.txt (line 3)) (2.8)\n",
            "Requirement already satisfied: chardet<3.1.0,>=3.0.2 in /usr/local/lib/python3.6/dist-packages (from requests==2.21.0->-r requirements.txt (line 3)) (3.0.4)\n",
            "Building wheels for collected packages: fire, regex\n",
            "  Building wheel for fire (setup.py) ... \u001b[?25l\u001b[?25hdone\n",
            "  Created wheel for fire: filename=fire-0.2.1-py2.py3-none-any.whl size=103527 sha256=de34f9cc8021970441c36284242006258eebebd31a20b173ac8f417b205ec4dd\n",
            "  Stored in directory: /root/.cache/pip/wheels/31/9c/c0/07b6dc7faf1844bb4688f46b569efe6cafaa2179c95db821da\n",
            "  Building wheel for regex (setup.py) ... \u001b[?25l\u001b[?25hdone\n",
            "  Created wheel for regex: filename=regex-2017.4.5-cp36-cp36m-linux_x86_64.whl size=533176 sha256=d79678b2debddcba2712e52c8a1ce9fe4b68543eae03b3d8f34342766b36ea0d\n",
            "  Stored in directory: /root/.cache/pip/wheels/75/07/38/3c16b529d50cb4e0cd3dbc7b75cece8a09c132692c74450b01\n",
            "Successfully built fire regex\n",
            "Installing collected packages: fire, regex, tqdm, toposort\n",
            "  Found existing installation: tqdm 4.28.1\n",
            "    Uninstalling tqdm-4.28.1:\n",
            "      Successfully uninstalled tqdm-4.28.1\n",
            "Successfully installed fire-0.2.1 regex-2017.4.5 toposort-1.5 tqdm-4.31.1\n"
          ]
        },
        {
          "data": {
            "application/vnd.colab-display-data+json": {
              "pip_warning": {
                "packages": [
                  "tqdm"
                ]
              }
            }
          },
          "metadata": {
            "tags": []
          },
          "output_type": "display_data"
        }
      ],
      "source": [
        "!pip install -r requirements.txt # gerekli kütüphaneleri yükleyelim"
      ]
    },
    {
      "cell_type": "code",
      "execution_count": null,
      "metadata": {
        "colab": {
          "base_uri": "https://localhost:8080/",
          "height": 131
        },
        "colab_type": "code",
        "id": "FNpf6R4ahYSN",
        "outputId": "50af2872-d22c-4e4b-b31f-676b07732680"
      },
      "outputs": [
        {
          "name": "stdout",
          "output_type": "stream",
          "text": [
            "Go to this URL in a browser: https://accounts.google.com/o/oauth2/auth?client_id=947318989803-6bn6qk8qdgf4n4g3pfee6491hc0brc4i.apps.googleusercontent.com&redirect_uri=urn%3Aietf%3Awg%3Aoauth%3A2.0%3Aoob&scope=email%20https%3A%2F%2Fwww.googleapis.com%2Fauth%2Fdocs.test%20https%3A%2F%2Fwww.googleapis.com%2Fauth%2Fdrive%20https%3A%2F%2Fwww.googleapis.com%2Fauth%2Fdrive.photos.readonly%20https%3A%2F%2Fwww.googleapis.com%2Fauth%2Fpeopleapi.readonly&response_type=code\n",
            "\n",
            "Enter your authorization code:\n",
            "··········\n",
            "Mounted at /content/drive\n"
          ]
        }
      ],
      "source": [
        "from google.colab import drive # Drive'a bağlanalım\n",
        "drive.mount('/content/drive')"
      ]
    },
    {
      "cell_type": "code",
      "execution_count": null,
      "metadata": {
        "colab": {
          "base_uri": "https://localhost:8080/",
          "height": 148
        },
        "colab_type": "code",
        "id": "A498TySgHYyF",
        "outputId": "954cbecd-df8f-4677-c380-2642cc968b9e"
      },
      "outputs": [
        {
          "name": "stdout",
          "output_type": "stream",
          "text": [
            "\rFetching checkpoint:   0%|                                              | 0.00/77.0 [00:00<?, ?it/s]\rFetching checkpoint: 1.00kit [00:00, 903kit/s]                                                      \n",
            "\rFetching encoder.json:   0%|                                           | 0.00/1.04M [00:00<?, ?it/s]\rFetching encoder.json: 1.04Mit [00:00, 64.9Mit/s]                                                   \n",
            "Fetching hparams.json: 1.00kit [00:00, 1.11Mit/s]                                                   \n",
            "Fetching model.ckpt.data-00000-of-00001: 1.42Git [00:18, 77.1Mit/s]                                 \n",
            "Fetching model.ckpt.index: 11.0kit [00:00, 7.13Mit/s]                                               \n",
            "Fetching model.ckpt.meta: 927kit [00:00, 65.4Mit/s]                                                 \n",
            "Fetching vocab.bpe: 457kit [00:00, 61.7Mit/s]                                                       \n"
          ]
        }
      ],
      "source": [
        "!python3 download_model.py 345M #345 Modeli indirelim, ben 117'liği indireceğim ama siz 345'lik ile daha iyi sonuçlara ulaşabilirsiniz."
      ]
    },
    {
      "cell_type": "code",
      "execution_count": null,
      "metadata": {
        "colab": {},
        "colab_type": "code",
        "id": "7oJPQtdLbbeK"
      },
      "outputs": [],
      "source": [
        "!export PYTHONIOENCODING=UTF-8"
      ]
    },
    {
      "cell_type": "code",
      "execution_count": null,
      "metadata": {
        "colab": {},
        "colab_type": "code",
        "id": "cA2Wk7yIPmS6"
      },
      "outputs": [],
      "source": [
        "!cp -r /content/drive/My\\ Drive/checkpoint/ /content/gpt-2/ # Drive'ı kopyalayalım"
      ]
    },
    {
      "cell_type": "code",
      "execution_count": null,
      "metadata": {
        "colab": {
          "base_uri": "https://localhost:8080/",
          "height": 111
        },
        "colab_type": "code",
        "id": "_lEVPHeF2RAS",
        "outputId": "8f8d5912-e168-4358-95e4-a406b2a4cff6"
      },
      "outputs": [
        {
          "name": "stdout",
          "output_type": "stream",
          "text": [
            "checkpoint\t\t\t\t     model-1000.meta\n",
            "counter\t\t\t\t\t     model-1940.data-00000-of-00001\n",
            "events.out.tfevents.1566768344.7c5e293614ed  model-1940.index\n",
            "model-1000.data-00000-of-00001\t\t     model-1940.meta\n",
            "model-1000.index\n"
          ]
        }
      ],
      "source": [
        "!ls checkpoint/run1"
      ]
    },
    {
      "cell_type": "code",
      "execution_count": null,
      "metadata": {
        "colab": {},
        "colab_type": "code",
        "id": "QOCvrs-DHvxa"
      },
      "outputs": [],
      "source": [
        "from google.colab import files # veriyi bilgisayarımızdan yükleyelim\n",
        "\n",
        "uploaded = files.upload()"
      ]
    },
    {
      "cell_type": "code",
      "execution_count": null,
      "metadata": {
        "colab": {},
        "colab_type": "code",
        "id": "pEn_ihcGI00T"
      },
      "outputs": [],
      "source": [
        "!ls src\n",
        "!ls checkpoint\n",
        "\n",
        "!PYTHONPATH=src ./train.py --dataset checkpoint/xab --model_name 345M "
      ]
    },
    {
      "cell_type": "code",
      "execution_count": null,
      "metadata": {
        "colab": {},
        "colab_type": "code",
        "id": "JretqG1zOXdi"
      },
      "outputs": [],
      "source": [
        "!cp -r /content/gpt-2/checkpoint/ /content/drive/My\\ Drive/\n"
      ]
    },
    {
      "cell_type": "code",
      "execution_count": null,
      "metadata": {
        "colab": {},
        "colab_type": "code",
        "id": "VeETvWvrbKga"
      },
      "outputs": [],
      "source": [
        "!cp -r /content/gpt-2/checkpoint/run1/* /content/gpt-2/models/345M/"
      ]
    },
    {
      "cell_type": "code",
      "execution_count": null,
      "metadata": {
        "colab": {
          "base_uri": "https://localhost:8080/",
          "height": 1000
        },
        "colab_type": "code",
        "id": "utJj-iY4gHwE",
        "outputId": "51724d2e-8874-4b54-cec2-76caf68023eb"
      },
      "outputs": [
        {
          "name": "stdout",
          "output_type": "stream",
          "text": [
            "WARNING: Logging before flag parsing goes to stderr.\n",
            "W0826 16:55:12.362855 139818792126336 deprecation_wrapper.py:119] From /content/gpt-2/src/model.py:147: The name tf.AUTO_REUSE is deprecated. Please use tf.compat.v1.AUTO_REUSE instead.\n",
            "\n",
            "W0826 16:55:12.479545 139818792126336 deprecation_wrapper.py:119] From src/interactive_conditional_samples.py:55: The name tf.Session is deprecated. Please use tf.compat.v1.Session instead.\n",
            "\n",
            "2019-08-26 16:55:12.507973: I tensorflow/stream_executor/platform/default/dso_loader.cc:42] Successfully opened dynamic library libcuda.so.1\n",
            "2019-08-26 16:55:12.566868: I tensorflow/stream_executor/cuda/cuda_gpu_executor.cc:1005] successful NUMA node read from SysFS had negative value (-1), but there must be at least one NUMA node, so returning NUMA node zero\n",
            "2019-08-26 16:55:12.567494: I tensorflow/core/common_runtime/gpu/gpu_device.cc:1640] Found device 0 with properties: \n",
            "name: Tesla T4 major: 7 minor: 5 memoryClockRate(GHz): 1.59\n",
            "pciBusID: 0000:00:04.0\n",
            "2019-08-26 16:55:12.576651: I tensorflow/stream_executor/platform/default/dso_loader.cc:42] Successfully opened dynamic library libcudart.so.10.0\n",
            "2019-08-26 16:55:12.738772: I tensorflow/stream_executor/platform/default/dso_loader.cc:42] Successfully opened dynamic library libcublas.so.10.0\n",
            "2019-08-26 16:55:12.835014: I tensorflow/stream_executor/platform/default/dso_loader.cc:42] Successfully opened dynamic library libcufft.so.10.0\n",
            "2019-08-26 16:55:12.857354: I tensorflow/stream_executor/platform/default/dso_loader.cc:42] Successfully opened dynamic library libcurand.so.10.0\n",
            "2019-08-26 16:55:13.028646: I tensorflow/stream_executor/platform/default/dso_loader.cc:42] Successfully opened dynamic library libcusolver.so.10.0\n",
            "2019-08-26 16:55:13.141442: I tensorflow/stream_executor/platform/default/dso_loader.cc:42] Successfully opened dynamic library libcusparse.so.10.0\n",
            "2019-08-26 16:55:13.557917: I tensorflow/stream_executor/platform/default/dso_loader.cc:42] Successfully opened dynamic library libcudnn.so.7\n",
            "2019-08-26 16:55:13.558236: I tensorflow/stream_executor/cuda/cuda_gpu_executor.cc:1005] successful NUMA node read from SysFS had negative value (-1), but there must be at least one NUMA node, so returning NUMA node zero\n",
            "2019-08-26 16:55:13.558937: I tensorflow/stream_executor/cuda/cuda_gpu_executor.cc:1005] successful NUMA node read from SysFS had negative value (-1), but there must be at least one NUMA node, so returning NUMA node zero\n",
            "2019-08-26 16:55:13.559429: I tensorflow/core/common_runtime/gpu/gpu_device.cc:1763] Adding visible gpu devices: 0\n",
            "2019-08-26 16:55:13.573656: I tensorflow/core/platform/profile_utils/cpu_utils.cc:94] CPU Frequency: 2300000000 Hz\n",
            "2019-08-26 16:55:13.575773: I tensorflow/compiler/xla/service/service.cc:168] XLA service 0x22172c0 executing computations on platform Host. Devices:\n",
            "2019-08-26 16:55:13.575820: I tensorflow/compiler/xla/service/service.cc:175]   StreamExecutor device (0): <undefined>, <undefined>\n",
            "2019-08-26 16:55:13.740656: I tensorflow/stream_executor/cuda/cuda_gpu_executor.cc:1005] successful NUMA node read from SysFS had negative value (-1), but there must be at least one NUMA node, so returning NUMA node zero\n",
            "2019-08-26 16:55:13.741630: I tensorflow/compiler/xla/service/service.cc:168] XLA service 0x2217480 executing computations on platform CUDA. Devices:\n",
            "2019-08-26 16:55:13.741701: I tensorflow/compiler/xla/service/service.cc:175]   StreamExecutor device (0): Tesla T4, Compute Capability 7.5\n",
            "2019-08-26 16:55:13.742692: I tensorflow/stream_executor/cuda/cuda_gpu_executor.cc:1005] successful NUMA node read from SysFS had negative value (-1), but there must be at least one NUMA node, so returning NUMA node zero\n",
            "2019-08-26 16:55:13.743293: I tensorflow/core/common_runtime/gpu/gpu_device.cc:1640] Found device 0 with properties: \n",
            "name: Tesla T4 major: 7 minor: 5 memoryClockRate(GHz): 1.59\n",
            "pciBusID: 0000:00:04.0\n",
            "2019-08-26 16:55:13.743419: I tensorflow/stream_executor/platform/default/dso_loader.cc:42] Successfully opened dynamic library libcudart.so.10.0\n",
            "2019-08-26 16:55:13.743445: I tensorflow/stream_executor/platform/default/dso_loader.cc:42] Successfully opened dynamic library libcublas.so.10.0\n",
            "2019-08-26 16:55:13.743462: I tensorflow/stream_executor/platform/default/dso_loader.cc:42] Successfully opened dynamic library libcufft.so.10.0\n",
            "2019-08-26 16:55:13.743487: I tensorflow/stream_executor/platform/default/dso_loader.cc:42] Successfully opened dynamic library libcurand.so.10.0\n",
            "2019-08-26 16:55:13.743502: I tensorflow/stream_executor/platform/default/dso_loader.cc:42] Successfully opened dynamic library libcusolver.so.10.0\n",
            "2019-08-26 16:55:13.743513: I tensorflow/stream_executor/platform/default/dso_loader.cc:42] Successfully opened dynamic library libcusparse.so.10.0\n",
            "2019-08-26 16:55:13.743528: I tensorflow/stream_executor/platform/default/dso_loader.cc:42] Successfully opened dynamic library libcudnn.so.7\n",
            "2019-08-26 16:55:13.743609: I tensorflow/stream_executor/cuda/cuda_gpu_executor.cc:1005] successful NUMA node read from SysFS had negative value (-1), but there must be at least one NUMA node, so returning NUMA node zero\n",
            "2019-08-26 16:55:13.744188: I tensorflow/stream_executor/cuda/cuda_gpu_executor.cc:1005] successful NUMA node read from SysFS had negative value (-1), but there must be at least one NUMA node, so returning NUMA node zero\n",
            "2019-08-26 16:55:13.744672: I tensorflow/core/common_runtime/gpu/gpu_device.cc:1763] Adding visible gpu devices: 0\n",
            "2019-08-26 16:55:13.746499: I tensorflow/stream_executor/platform/default/dso_loader.cc:42] Successfully opened dynamic library libcudart.so.10.0\n",
            "2019-08-26 16:55:13.747861: I tensorflow/core/common_runtime/gpu/gpu_device.cc:1181] Device interconnect StreamExecutor with strength 1 edge matrix:\n",
            "2019-08-26 16:55:13.747894: I tensorflow/core/common_runtime/gpu/gpu_device.cc:1187]      0 \n",
            "2019-08-26 16:55:13.747902: I tensorflow/core/common_runtime/gpu/gpu_device.cc:1200] 0:   N \n",
            "2019-08-26 16:55:13.755065: I tensorflow/stream_executor/cuda/cuda_gpu_executor.cc:1005] successful NUMA node read from SysFS had negative value (-1), but there must be at least one NUMA node, so returning NUMA node zero\n",
            "2019-08-26 16:55:13.755866: I tensorflow/stream_executor/cuda/cuda_gpu_executor.cc:1005] successful NUMA node read from SysFS had negative value (-1), but there must be at least one NUMA node, so returning NUMA node zero\n",
            "2019-08-26 16:55:13.756399: W tensorflow/core/common_runtime/gpu/gpu_bfc_allocator.cc:40] Overriding allow_growth setting because the TF_FORCE_GPU_ALLOW_GROWTH environment variable is set. Original config value was 0.\n",
            "2019-08-26 16:55:13.756461: I tensorflow/core/common_runtime/gpu/gpu_device.cc:1326] Created TensorFlow device (/job:localhost/replica:0/task:0/device:GPU:0 with 14221 MB memory) -> physical GPU (device: 0, name: Tesla T4, pci bus id: 0000:00:04.0, compute capability: 7.5)\n",
            "W0826 16:55:13.757456 139818792126336 deprecation_wrapper.py:119] From src/interactive_conditional_samples.py:56: The name tf.placeholder is deprecated. Please use tf.compat.v1.placeholder instead.\n",
            "\n",
            "W0826 16:55:13.766145 139818792126336 deprecation_wrapper.py:119] From src/interactive_conditional_samples.py:58: The name tf.set_random_seed is deprecated. Please use tf.compat.v1.set_random_seed instead.\n",
            "\n",
            "W0826 16:55:13.776627 139818792126336 deprecation_wrapper.py:119] From /content/gpt-2/src/model.py:148: The name tf.variable_scope is deprecated. Please use tf.compat.v1.variable_scope instead.\n",
            "\n",
            "W0826 16:55:20.936625 139818792126336 deprecation.py:323] From /content/gpt-2/src/sample.py:65: to_float (from tensorflow.python.ops.math_ops) is deprecated and will be removed in a future version.\n",
            "Instructions for updating:\n",
            "Use `tf.cast` instead.\n",
            "W0826 16:55:20.950553 139818792126336 deprecation.py:323] From /content/gpt-2/src/sample.py:16: add_dispatch_support.<locals>.wrapper (from tensorflow.python.ops.array_ops) is deprecated and will be removed in a future version.\n",
            "Instructions for updating:\n",
            "Use tf.where in 2.0, which has the same broadcast rule as np.where\n",
            "W0826 16:55:20.952231 139818792126336 deprecation.py:323] From /content/gpt-2/src/sample.py:70: multinomial (from tensorflow.python.ops.random_ops) is deprecated and will be removed in a future version.\n",
            "Instructions for updating:\n",
            "Use `tf.random.categorical` instead.\n",
            "W0826 16:55:20.961563 139818792126336 deprecation_wrapper.py:119] From src/interactive_conditional_samples.py:66: The name tf.train.Saver is deprecated. Please use tf.compat.v1.train.Saver instead.\n",
            "\n",
            "W0826 16:55:21.352790 139818792126336 deprecation.py:323] From /usr/local/lib/python3.6/dist-packages/tensorflow/python/training/saver.py:1276: checkpoint_exists (from tensorflow.python.training.checkpoint_management) is deprecated and will be removed in a future version.\n",
            "Instructions for updating:\n",
            "Use standard file APIs to check for files with this prefix.\n",
            "Model prompt >>> çağatay'ın videosunu izlerken, yapay zeka yazmaya karar verdim. Bakalım sonuç ne olacak? Merak içindeyim.\n",
            "2019-08-26 16:56:19.525759: I tensorflow/stream_executor/platform/default/dso_loader.cc:42] Successfully opened dynamic library libcublas.so.10.0\n",
            "======================================== SAMPLE 1 ========================================\n",
            "\n",
            "\n",
            "Yılmazçi içerisinde halkın bağımsız ve gün güzel olan ve sıcak dolarinde bulunuyordu. Örneğin ilişkil edilmiştir. Örneğin söyleyebürdünündeydi. Halleluh, yıllar açılmış bir sıkının bulur. Çünkü Hristiyan hükümet olurla bağımsız ve bulunuyordu.\n",
            "\n",
            "\n",
            "Günümüze söz edilmesi ve kuşatmadı.\n",
            "\n",
            "\n",
            "\n",
            "</doc>\n",
            "<doc id=\"68985\" url=\"https://tr.wikipedia.org/wiki?curid=68985\" title=\"Çünkü, Ceyhan\">\n",
            "Çünkü, Ceyhan\n",
            "\n",
            "Önce Ceyhan Şehri, Ceyhan ya da Ceyhan Şehri Çağlardan düşürülmektedir. Ceyhan, İngilizde ve Yılları ya da Ceyhan Şehr'in ölçüde yani iki öldüyü üstlendi.\n",
            "\n",
            "Kanışan ve İstanbul'ın ve bu yüzde İlceyi'nde cenazesi yabancılış ve yaşamıştır. İlceji konusunda Çayının ve şişki yüzeyeceği söz edilen yüzeye çalışanından, birbirlerde büyük söz edilebileceği giydi, ölçüde yabancılışmış ve kabul edilmez.\n",
            "\n",
            "\n",
            "\n",
            "\n",
            "\n",
            "</doc>\n",
            "<doc id=\"68986\" url=\"https://tr.wikipedia.org/wiki?curid=68986\" title=\"Pokala\">\n",
            "Pokala\n",
            "\n",
            "Pok\n",
            "================================================================================\n",
            "Model prompt >>> Traceback (most recent call last):\n",
            "  File \"/usr/local/lib/python3.6/dist-packages/tensorflow/python/framework/ops.py\", line 5459, in get_controller\n",
            "    yield default\n",
            "  File \"/usr/local/lib/python3.6/dist-packages/tensorflow/python/framework/ops.py\", line 5652, in get_controller\n",
            "    yield g\n",
            "  File \"src/interactive_conditional_samples.py\", line 71, in interact_model\n",
            "    raw_text = input(\"Model prompt >>> \")\n",
            "KeyboardInterrupt\n",
            "\n",
            "During handling of the above exception, another exception occurred:\n",
            "\n",
            "Traceback (most recent call last):\n",
            "  File \"src/interactive_conditional_samples.py\", line 89, in <module>\n",
            "    fire.Fire(interact_model)\n",
            "  File \"/usr/local/lib/python3.6/dist-packages/fire/core.py\", line 138, in Fire\n",
            "    component_trace = _Fire(component, args, parsed_flag_args, context, name)\n",
            "  File \"/usr/local/lib/python3.6/dist-packages/fire/core.py\", line 471, in _Fire\n",
            "    target=component.__name__)\n",
            "  File \"/usr/local/lib/python3.6/dist-packages/fire/core.py\", line 675, in _CallAndUpdateTrace\n",
            "    component = fn(*varargs, **kwargs)\n",
            "  File \"src/interactive_conditional_samples.py\", line 86, in interact_model\n",
            "    print(\"=\" * 80)\n",
            "  File \"/usr/local/lib/python3.6/dist-packages/tensorflow/python/client/session.py\", line 1606, in __exit__\n",
            "    self._default_graph_context_manager.__exit__(exec_type, exec_value, exec_tb)\n",
            "  File \"/usr/lib/python3.6/contextlib.py\", line 99, in __exit__\n",
            "    self.gen.throw(type, value, traceback)\n",
            "  File \"/usr/local/lib/python3.6/dist-packages/tensorflow/python/framework/ops.py\", line 5652, in get_controller\n",
            "    yield g\n",
            "  File \"/usr/lib/python3.6/contextlib.py\", line 99, in __exit__\n",
            "    self.gen.throw(type, value, traceback)\n",
            "  File \"/usr/local/lib/python3.6/dist-packages/tensorflow/python/framework/ops.py\", line 5468, in get_controller\n",
            "    self.stack.pop()\n",
            "KeyboardInterrupt\n"
          ]
        }
      ],
      "source": [
        "!python3 src/interactive_conditional_samples.py --top_k 40 --model_name 345M"
      ]
    },
    {
      "cell_type": "code",
      "execution_count": null,
      "metadata": {
        "colab": {},
        "colab_type": "code",
        "id": "wx9ZnEE2u-KU"
      },
      "outputs": [],
      "source": [
        "!python3 src/interactive_conditional_samples.py -- --help"
      ]
    },
    {
      "cell_type": "code",
      "execution_count": null,
      "metadata": {
        "colab": {
          "base_uri": "https://localhost:8080/",
          "height": 111
        },
        "colab_type": "code",
        "id": "o_a0AV603jPQ",
        "outputId": "15c7f4ed-ad88-493f-e88d-39a6c9d241ab"
      },
      "outputs": [
        {
          "name": "stdout",
          "output_type": "stream",
          "text": [
            "accumulate.py\t\t\t    memory_saving_gradients.py\n",
            "encoder.py\t\t\t    model.py\n",
            "generate_unconditional_samples.py   __pycache__\n",
            "interactive_conditional_samples.py  sample.py\n",
            "load_dataset.py\n"
          ]
        }
      ],
      "source": [
        "!ls src"
      ]
    },
    {
      "cell_type": "code",
      "execution_count": null,
      "metadata": {
        "colab": {
          "base_uri": "https://localhost:8080/",
          "height": 1000
        },
        "colab_type": "code",
        "id": "59Bkfxbh3kHr",
        "outputId": "91c1c442-31c2-4246-9484-5dccbba8e07d"
      },
      "outputs": [
        {
          "name": "stdout",
          "output_type": "stream",
          "text": [
            "WARNING: Logging before flag parsing goes to stderr.\n",
            "W0826 17:00:05.502136 140451974326144 deprecation_wrapper.py:119] From /content/gpt-2/src/model.py:147: The name tf.AUTO_REUSE is deprecated. Please use tf.compat.v1.AUTO_REUSE instead.\n",
            "\n",
            "W0826 17:00:05.589597 140451974326144 deprecation_wrapper.py:119] From src/generate_unconditional_samples.py:52: The name tf.Session is deprecated. Please use tf.compat.v1.Session instead.\n",
            "\n",
            "2019-08-26 17:00:05.591437: I tensorflow/stream_executor/platform/default/dso_loader.cc:42] Successfully opened dynamic library libcuda.so.1\n",
            "2019-08-26 17:00:05.628407: I tensorflow/stream_executor/cuda/cuda_gpu_executor.cc:1005] successful NUMA node read from SysFS had negative value (-1), but there must be at least one NUMA node, so returning NUMA node zero\n",
            "2019-08-26 17:00:05.629102: I tensorflow/core/common_runtime/gpu/gpu_device.cc:1640] Found device 0 with properties: \n",
            "name: Tesla T4 major: 7 minor: 5 memoryClockRate(GHz): 1.59\n",
            "pciBusID: 0000:00:04.0\n",
            "2019-08-26 17:00:05.629418: I tensorflow/stream_executor/platform/default/dso_loader.cc:42] Successfully opened dynamic library libcudart.so.10.0\n",
            "2019-08-26 17:00:05.630706: I tensorflow/stream_executor/platform/default/dso_loader.cc:42] Successfully opened dynamic library libcublas.so.10.0\n",
            "2019-08-26 17:00:05.631965: I tensorflow/stream_executor/platform/default/dso_loader.cc:42] Successfully opened dynamic library libcufft.so.10.0\n",
            "2019-08-26 17:00:05.632287: I tensorflow/stream_executor/platform/default/dso_loader.cc:42] Successfully opened dynamic library libcurand.so.10.0\n",
            "2019-08-26 17:00:05.633794: I tensorflow/stream_executor/platform/default/dso_loader.cc:42] Successfully opened dynamic library libcusolver.so.10.0\n",
            "2019-08-26 17:00:05.634886: I tensorflow/stream_executor/platform/default/dso_loader.cc:42] Successfully opened dynamic library libcusparse.so.10.0\n",
            "2019-08-26 17:00:05.638290: I tensorflow/stream_executor/platform/default/dso_loader.cc:42] Successfully opened dynamic library libcudnn.so.7\n",
            "2019-08-26 17:00:05.638424: I tensorflow/stream_executor/cuda/cuda_gpu_executor.cc:1005] successful NUMA node read from SysFS had negative value (-1), but there must be at least one NUMA node, so returning NUMA node zero\n",
            "2019-08-26 17:00:05.639803: I tensorflow/stream_executor/cuda/cuda_gpu_executor.cc:1005] successful NUMA node read from SysFS had negative value (-1), but there must be at least one NUMA node, so returning NUMA node zero\n",
            "2019-08-26 17:00:05.640288: I tensorflow/core/common_runtime/gpu/gpu_device.cc:1763] Adding visible gpu devices: 0\n",
            "2019-08-26 17:00:05.645044: I tensorflow/core/platform/profile_utils/cpu_utils.cc:94] CPU Frequency: 2300000000 Hz\n",
            "2019-08-26 17:00:05.645268: I tensorflow/compiler/xla/service/service.cc:168] XLA service 0x25692c0 executing computations on platform Host. Devices:\n",
            "2019-08-26 17:00:05.645296: I tensorflow/compiler/xla/service/service.cc:175]   StreamExecutor device (0): <undefined>, <undefined>\n",
            "2019-08-26 17:00:05.758092: I tensorflow/stream_executor/cuda/cuda_gpu_executor.cc:1005] successful NUMA node read from SysFS had negative value (-1), but there must be at least one NUMA node, so returning NUMA node zero\n",
            "2019-08-26 17:00:05.758894: I tensorflow/compiler/xla/service/service.cc:168] XLA service 0x2569480 executing computations on platform CUDA. Devices:\n",
            "2019-08-26 17:00:05.758926: I tensorflow/compiler/xla/service/service.cc:175]   StreamExecutor device (0): Tesla T4, Compute Capability 7.5\n",
            "2019-08-26 17:00:05.759119: I tensorflow/stream_executor/cuda/cuda_gpu_executor.cc:1005] successful NUMA node read from SysFS had negative value (-1), but there must be at least one NUMA node, so returning NUMA node zero\n",
            "2019-08-26 17:00:05.759633: I tensorflow/core/common_runtime/gpu/gpu_device.cc:1640] Found device 0 with properties: \n",
            "name: Tesla T4 major: 7 minor: 5 memoryClockRate(GHz): 1.59\n",
            "pciBusID: 0000:00:04.0\n",
            "2019-08-26 17:00:05.759691: I tensorflow/stream_executor/platform/default/dso_loader.cc:42] Successfully opened dynamic library libcudart.so.10.0\n",
            "2019-08-26 17:00:05.759706: I tensorflow/stream_executor/platform/default/dso_loader.cc:42] Successfully opened dynamic library libcublas.so.10.0\n",
            "2019-08-26 17:00:05.759760: I tensorflow/stream_executor/platform/default/dso_loader.cc:42] Successfully opened dynamic library libcufft.so.10.0\n",
            "2019-08-26 17:00:05.759780: I tensorflow/stream_executor/platform/default/dso_loader.cc:42] Successfully opened dynamic library libcurand.so.10.0\n",
            "2019-08-26 17:00:05.759814: I tensorflow/stream_executor/platform/default/dso_loader.cc:42] Successfully opened dynamic library libcusolver.so.10.0\n",
            "2019-08-26 17:00:05.759834: I tensorflow/stream_executor/platform/default/dso_loader.cc:42] Successfully opened dynamic library libcusparse.so.10.0\n",
            "2019-08-26 17:00:05.759855: I tensorflow/stream_executor/platform/default/dso_loader.cc:42] Successfully opened dynamic library libcudnn.so.7\n",
            "2019-08-26 17:00:05.759975: I tensorflow/stream_executor/cuda/cuda_gpu_executor.cc:1005] successful NUMA node read from SysFS had negative value (-1), but there must be at least one NUMA node, so returning NUMA node zero\n",
            "2019-08-26 17:00:05.760510: I tensorflow/stream_executor/cuda/cuda_gpu_executor.cc:1005] successful NUMA node read from SysFS had negative value (-1), but there must be at least one NUMA node, so returning NUMA node zero\n",
            "2019-08-26 17:00:05.761019: I tensorflow/core/common_runtime/gpu/gpu_device.cc:1763] Adding visible gpu devices: 0\n",
            "2019-08-26 17:00:05.761102: I tensorflow/stream_executor/platform/default/dso_loader.cc:42] Successfully opened dynamic library libcudart.so.10.0\n",
            "2019-08-26 17:00:05.762272: I tensorflow/core/common_runtime/gpu/gpu_device.cc:1181] Device interconnect StreamExecutor with strength 1 edge matrix:\n",
            "2019-08-26 17:00:05.762296: I tensorflow/core/common_runtime/gpu/gpu_device.cc:1187]      0 \n",
            "2019-08-26 17:00:05.762305: I tensorflow/core/common_runtime/gpu/gpu_device.cc:1200] 0:   N \n",
            "2019-08-26 17:00:05.762428: I tensorflow/stream_executor/cuda/cuda_gpu_executor.cc:1005] successful NUMA node read from SysFS had negative value (-1), but there must be at least one NUMA node, so returning NUMA node zero\n",
            "2019-08-26 17:00:05.763018: I tensorflow/stream_executor/cuda/cuda_gpu_executor.cc:1005] successful NUMA node read from SysFS had negative value (-1), but there must be at least one NUMA node, so returning NUMA node zero\n",
            "2019-08-26 17:00:05.763519: W tensorflow/core/common_runtime/gpu/gpu_bfc_allocator.cc:40] Overriding allow_growth setting because the TF_FORCE_GPU_ALLOW_GROWTH environment variable is set. Original config value was 0.\n",
            "2019-08-26 17:00:05.763558: I tensorflow/core/common_runtime/gpu/gpu_device.cc:1326] Created TensorFlow device (/job:localhost/replica:0/task:0/device:GPU:0 with 14221 MB memory) -> physical GPU (device: 0, name: Tesla T4, pci bus id: 0000:00:04.0, compute capability: 7.5)\n",
            "W0826 17:00:05.764416 140451974326144 deprecation_wrapper.py:119] From src/generate_unconditional_samples.py:54: The name tf.set_random_seed is deprecated. Please use tf.compat.v1.set_random_seed instead.\n",
            "\n",
            "W0826 17:00:05.771991 140451974326144 deprecation_wrapper.py:119] From /content/gpt-2/src/model.py:148: The name tf.variable_scope is deprecated. Please use tf.compat.v1.variable_scope instead.\n",
            "\n",
            "W0826 17:00:05.772934 140451974326144 deprecation_wrapper.py:119] From /content/gpt-2/src/model.py:152: The name tf.get_variable is deprecated. Please use tf.compat.v1.get_variable instead.\n",
            "\n",
            "W0826 17:00:11.841271 140451974326144 deprecation.py:323] From /content/gpt-2/src/sample.py:65: to_float (from tensorflow.python.ops.math_ops) is deprecated and will be removed in a future version.\n",
            "Instructions for updating:\n",
            "Use `tf.cast` instead.\n",
            "W0826 17:00:11.843226 140451974326144 deprecation.py:323] From /content/gpt-2/src/sample.py:70: multinomial (from tensorflow.python.ops.random_ops) is deprecated and will be removed in a future version.\n",
            "Instructions for updating:\n",
            "Use `tf.random.categorical` instead.\n",
            "W0826 17:00:11.855252 140451974326144 deprecation_wrapper.py:119] From src/generate_unconditional_samples.py:63: The name tf.train.Saver is deprecated. Please use tf.compat.v1.train.Saver instead.\n",
            "\n",
            "W0826 17:00:12.082281 140451974326144 deprecation.py:323] From /usr/local/lib/python3.6/dist-packages/tensorflow/python/training/saver.py:1276: checkpoint_exists (from tensorflow.python.training.checkpoint_management) is deprecated and will be removed in a future version.\n",
            "Instructions for updating:\n",
            "Use standard file APIs to check for files with this prefix.\n",
            "2019-08-26 17:00:16.775163: I tensorflow/stream_executor/platform/default/dso_loader.cc:42] Successfully opened dynamic library libcublas.so.10.0\n",
            "======================================== SAMPLE 1 ========================================\n",
            "\"Ananda sözleşmesi geliştirilip nüfus tuiteyı\" nehzeretlerden etkilenir; \"kinan\" nehzeretleri innor arasındaki anni Μυληνικά του φενικός ελλοιλοδρουσιμότε πραχάτις/\"€.\" ardından kavram kullanılır.\n",
            "\n",
            "\n",
            "</doc>\n",
            "<doc id=\"71343\" url=\"https://tr.wikipedia.org/wiki?curid=71343\" title=\"Kısmıç Parlamedesuk Yapılan\">\n",
            "Kısmıç Parlamedesuk Yapılan\n",
            "\n",
            "Kısmıç Parlamedesuk Yapılan, Çift Yolu, Itkilerin marmara sağlamıştır. Ethik gövde bir gösterden yerden etki büyük yapısı türelle kmıydı.\n",
            "\n",
            "\n",
            "</doc>\n",
            "<doc id=\"71346\" url=\"https://tr.wikipedia.org/wiki?curid=71346\" title=\"Kımmı Yapılan Ölçü Milli Erbüksine\">\n",
            "Kımmı Yapılan Ölçü Milli Erbüksine\n",
            "\n",
            "Yapılan Ölçü Milli Erbüksine Üniversitesi (İşçi'), sembolizasyonu sembolisu çağırdı. 2015 yılında Lonçaolı İskandiası'ndaki konuademi, sembolizasyonu sembolasu 01 Mayıs 2015 tarihinde yapıldı.\n",
            "\n",
            "\n",
            "\n",
            "</doc>\n",
            "<doc id=\"71347\" url=\"https://tr.wikipedia.org/wiki?curid=71347\" title=\"Kan şişme ve doğu oxoğu ayak kalan barnate\"><ref name=\"Kan şişme ve doğu oxoğu ayak kalan barnate\"><img alt=\"Düzen'skoyun üzerinde\" src=\"https://dsx.weather.com//util/image/w/kranzeskoyunakar.jpg?v=at&w=485&h=273&api=7db9fe61-7414-47b5-9871-e17d87b8b6a0\" width=\"300\" height=\"202\" srcset=\"https://dsx.weather.com//util/image/w/kranzeskoyunakar.jpg?v=at&w=485&h=273&api=7db9fe61-7414-47b5-9871-e17d87b8b6a0 400w, https://dsx.weather.com//util/image/w/kranzeskoyu.jpg?v=at&w=485&h=273&api=7db9fe61-7414-47b5-9871-e17d87b8b6a0 800w\" data-uk.uvua=https://uvua.ustream.tv/yablaat taslimayacaktır/\n",
            "\n",
            "Düzen'in en ünreden dairesi birbirine mücadele oynadığı Düzen Şirin manastırdı. Luz dürkültüren ile hiçbüdü hariç, hârenin tanımı şeklinde hızına uzun ortaya çıktı. Nasıl Shumate düzenlerine dersler olmayan kurasının ırkmeye başrolu ve kuzey verilmişdir.\n",
            "Sağlanan Yönete Özsel Komiteva Valedemli Okutlar Sosyalistdeki bir minefe beji düstürmüştür. Şirket Kryaldi Ödigçeme kurmuş, İçinin öldüğü ve Şirin Kalayı üita feelye başlandı, kepe düşüncesindeki este geçt\n",
            "======================================== SAMPLE 2 ========================================\n",
            "Birçarde rücherde kütüç içindirebilir.\n",
            "\n",
            "Keşîgül Kay (AKT-j) etkisi en brand Enocha Kütücusu'nda artmasında diğer birçardır oğlu Dikâyǧr kipsi ve şekilde Barışplerlik kuzeymiten kraken çok ipse yuvalının gustilen Sedhâh-i Yani, Studed, Kütçe raveları belir-i hilar ve custanda çekiçi choppedli adda kahvede 1900 rümorrowlerde yöntemlerde içine ile sergilerin konser-de-Yında, Dormensoni tarıma-i oğlu a kapsayan Toorna'da katılmışlardır.\n",
            "\n",
            "\n",
            "\n",
            "\n",
            "\n",
            "\n",
            "\n",
            "</doc>\n",
            "<doc id=\"74556\" url=\"https://tr.wikipedia.org/wiki?curid=74556\" title=\" Şah]\n",
            "\n",
            "ŕah\n",
            "\n",
            "zah almak çünküdündeki bölümler ses iki favaşı bir çarpışması anumi. Cecilio and Bernese adı okulunun oğlu Dr Thomas Milton wantedı yüzeyneyi sistemijinde büyük bu tarihi olmadıkları vişli bir benzerden yönetmen devri \"sık teki alimse\" ve dünyanın çarpışma enerji \"sıkkan alimse\" identifies equitiyod sporluklaşan cynaniyla utahistan(dafsası), sporluklaşan ethnesi (ızlıcı/hippalli) ve verifizik economiktir (\"tzıb arımlı kacak\" çarpışmaya çıktığı artjisini, masalı ufak leniliği başkanı oğlu yenifiliksel \"sık teki alimse\" çarpışma enerji hamması yüzey verir).\n",
            "\n",
            "Basın oğlunu içeren ünluden, Albert Falk Llaylük Vlahodadırı Zinki \"Huw duval\" vi Askası giydi; Kanal Yıldız Bey benzerii bir ihcudurunu içindeydi.\n",
            "\n",
            "Hipolitçema öncesinde başpillion olarak çarpışma enerji \"divi çarpışması\" (\"idari çarpış\" bir çarpışmeri idari la selemedir birliğinde, omnizedildi tanıdar).\n",
            "\n",
            "Argosinoa kabintikçileri en kendisine tiyatro cynaniyla uta, bir tüm ordusu ağırlarda Rusya danışalama ve calihira bir adını yakalarıdan odaklanmış bir kısa ışınları aktelerine katılacakte vi çarpışan çarpışmasıdır.\n",
            "\n",
            "\n",
            "\n",
            "\n",
            "</doc>\n",
            "<doc id=\"74567\" url=\"https://tr.wikipedia.org/wiki?curid=74567\" title=\"Que About Dinne (ódiz 2017)\">\n",
            "Que About Dinne (ódiz 2017)\n",
            "\n",
            "Que About Dinne (anlam aşağıdaki Nouvelle Nominations 2017) vardır. Ve ünde bir parlamento nosotros tahrik ile göre, MPD ve LAOS kişi üst lüğüne özelliği olmadığını (weiskindeki arkadaşliğı düşünmesi verilmiş bir arkanı vardır).\n",
            "\n",
            "Kısa Barışı Cemiyeti (İstanbul'e, Yonmay Hüseyinç) tahriksleti ve üst oğlu üstlar ile penışan yaşamaktadır ve Adnan K\n",
            "======================================== SAMPLE 3 ========================================\n",
            "\"There's lots of hostility involved with labeling on spendingide. You see how economies are going fordiphase, there's lots of people blameo isten banca itali alapkovilir. Paulo Gama, historian epalacağı ise ırk alimisti sözlenmecisi biridir. Camorluğu Diderot\"\n",
            "\n",
            "3. Yıldız 1914’se alma çıktı. Gerçemeler daha sonra Tantou muharebotli gerçekleştirilmesiyle Rus tarazında sağlanmıştır. Puget İmparatorluğu’nun önce eğitimi güneddiği ile desteklemelerde biridir.\n",
            "\n",
            "½day Ubuntu' pin favoritora tedavisi bir tin ortaya çışışı Anne Herbert’ın fatherlandı bir sınırlıdır:\n",
            "\n",
            "\n",
            "\n",
            "<img alt=\"\" src=\"http://ehess.ru/api/ucuds?id=3200\" width=\"600″ height=\"177\" srcset=\"http://ehess.ru/api/ucuds?id=3200%3A%2E1471%2E101 añadırılmıştır.jpg\" style=\"max-height: 600px; margin: 0px;\" styleheight=\"500px;\" />\n",
            "\n",
            "</doc>\n",
            "<doc id=\"32505\" url=\"https://tr.wikipedia.org/wiki?curid=32505\" title=\"Zucker\">\n",
            "Zucker\n",
            "\n",
            "Zucker Gorİ (Zuan'-İ hope), bir yanında \"Züber\" olarak iki ya da ya da \"Zürger\" skor <http://en.wikipedia.org/wiki?curid=32505>nan gerçekleşim girmeyi</http> tagır. \"Züber\" aleşmaktadırları AA, AA, RC, O, FM, FM, AE, AM, OXO, işlenmeyi, Pd, Züber, afrikadikli muridleri, davletleri yöntemlerdir.\n",
            "\n",
            "İşmika survival, allowez tekrar zörlü. Yana \"panel foåstejleri vacamaosonu\" üzerinde bir genç bir köyetli vardır. Bunu yüzey dakika tekrar rahational ve yani geliştirilerek zörlü toplamıştır. \"Züber\" çıktığı açtığı terimi zörlü sonucunda toplamıştır: Henankekyle kadar 3düşlük çalışır ve kövenni açmıştır. Allison kadın oranımları \"Züber\" oluşturur.\n",
            "\n",
            "Zigü'ndeki çalışmaları \"Die Bengin\", Islami olup çıkardığı Devrimuluurlarının devrimlarında ve iskan patlak parçasıyla sonucuz oynaması latin tileverişini koltukliğini usuzu af giriştan üretilir. Şernabüş'yı yukarı olarak yönetmensür almesi dahil edilmiştir. Zigünden, İzmir’nin arasında kendi altında tell us \"Züber\" bir asliyle sosyalistı bir kan ve yükselrek admylegiştemini \"çingo yüksek oxun\" olarak öğrenci etti. Ancak ve özel birçok mücadelesinde donanmaşti, oldukça Nagoya'da Hubunan'da mevköylerini düşüncesin yoktur; Ure birçok mısı tarafından mesmeleri soryonları tavır olarak atılan felesini çalışır. Bublamazyı varlamaktalar \"Zucker\" keşmiştir. Porı\n",
            "======================================== SAMPLE 4 ========================================\n",
            "\" 'Hadal nesilfrik bir sağlanmamasım – kengilmış içindeki berahmaktadır.' 'Nesli olmadıkları yolmiş fizik dirneventi' ve 'Muzaffare Ait Abinea' ('Muzaffarida Balımı Oromacı'ne ait Karanapsyalahanı Plucker')'da yapılan uygun ve exgeymiş, erkek derinliliği, düşüncesi ve daha kaldırılatta geçmiş ve çalı mümkündür terkeliden hasil kısmi bir tür kişi olmadığı, recuek eşleri takımları yazma hometaldığı milsuavickenindaki vazgeçilmiştir. Ora 51 religyalıkaya 'başlamalığın ardından oluşur ve Kısımadık İstanbul'nın bir romanlar roman elde ederek sadra ivardı. Çağlarda akçasaran uygun dedikinde dışınlar, kalan ve derinliği ile birlikte $50 bartık bir unihter'ün imza uygun yaptıları mevcut verilden memantsini üzerine Fugazi çelik örnektir. Akaldırılı bu romanında teline romanı Roman’u desteklyebileceği ve özgü şarkısı anlamayacağı anlatarak bu şarkıda deşenlerin de kadında yapılan Meskozasına uzmurulduğundan bu örgütlerinştireceğinden de kadar olmuştur. Bu hava içinde durur, 'la antas tayin de da kadın régression, yalonglik ve daha files verilebilir’tı. Repetitiveu sektör ve kasasları (faiz) sam zaman kadınmış o yaptığı ilan etmiştir. Emekirlerde hırsak sınıf biletlerindeki birçok, çağlarda çağlarda havaldırılıyım devam ederken sınıfı pole vrajjackarı’dır. Köklerda eğl, en bilgisinde içerrı devam etmek, ilemi ve insanı ile bilinen tamagata ardından yüksek vazgeçerdi ve egletlerde yer almaz workarı, tam günümüzde boş gorum dikeade toplanılmıştır. Μurcom edilerek diğer teknik direktör op şeyi bu tek bir emek içedinin veya eğite farklı yorumları adamı önemli bir kardıdelidir. Ükili olmakla aynı tüm sona yandan koreyilkendar ediyor. Pluckerın fatihiyet etmesini, გშაოჩშაცლოკდექოლითლნლითიკდეშეიოკობვლააცეოเ ███ █Ⓑ ███ █⒮ █⒮ █⒣ █⒤ █⒧ █⒟ █⒡ █⒣ █⒧ █⒡ █⒤ █⒧ █⒥ █⒡ █⒧ █⒥ █⒧ █⒥ █⒧ █�\n",
            "======================================== SAMPLE 5 ========================================\n",
            "\"What do you mean belarda biridir medinat!\" …\n",
            "Rudolf Faur's \"1 Esdenli Böyük gerçek verimporlik başlanarak elenme vukanır\" adının hemen ayrılan,\n",
            "Ankara Üniversitesi'nde \"Akaba\" vegan konumu yapmaktadır.\n",
            "\n",
            "4 Esden büyültüren 2013's şüpü budkaya çalmatı olmayı yurtdığı, İnterçe ve üç yükleşimda kadar eren config'te de açı. Olaşach 10 Savaşı’taki görülür, ve 9 Üsten büyük bir şey börenin laşıyu solunur. Özellikle Şuide Liman'da Samarkandırda'nın Astana Üniversitesi'nde Elgin DumireÂ balli bir kule axi bir nihai ve özel olduğuna, özellikle barışma jvati kaldırnadoğı Mac%'in üst gösteren Follu Hemminki cahibesi ve Ankara Üniversitesi'yı Soluncu teşek tehditlerini çalışmaktadır.\n",
            "\n",
            "Özellikle \"3 çocuğu Rafah Khadarce karşı olmayan koşuludur,\" kadar yapmamıştır.\n",
            "\n",
            "Geçmiş Helly Alban'ın lowa gerçekleşti, üstündüzlük karşı tiplerine sebep ve sık olan arkadaşı bir birasyon toplumı salvelerini belirleri öldürülsiye ile Gümesi dışında kabul edilmek I. Aynı da, çuşunde ayrı anneleri kariileri ve karga yukarı Shikoku Üniversitesi'nde sahiptir, üstündüzlük karşıi ışılabilir en önemli şarkılan ve whileeri Londra Üniversitesi'nde serbest bırakıcı Karadeniz kularında Edira Üniversitesi'nde votarin belirte gönderildi. III. Shokulkan, İspanyolkera'nın de İstanbul Üniversitesi'nde aynı goveri ve öncü kaynaşı ki aldı. Abe aynı kardeş bir Buzkublar, sandusa ihtimali ve brêjonin kardeşi oluşur. Melya Üniversitesi 'etli bulhuran yöntemiştir.\n",
            "\n",
            "\n",
            "Bunun tanımlı bir yıllarda loz, Anadolu, İeşitli, İkili olmak için ideolojik güçlerinde daha rüşverişlahına taşıyan ve hem düşür. İkili olasılara, Arap dağları ile İstanbul Üniversitesi, Han ($) almaktadı. Gray ve ticaray olmak üzülen başlar. Kemaden ve morten ve Kevdüp'i şehrinin kan ve reg'ı nigenli ordusunda başap düşüğü olan somaldan sözelsi Osyüş anlamaz; oğlu senesinden Yildirim(ᵙn\".[19?][20]) ile \"Meïde Kadybert underlingi varolüsü\"‘nı dışında ısın'meyi ki çok denize Cameron C Musketman Turkish Road Orta Judi Ribault Veltirme çekeridirler.\n",
            "\n",
            "2nd Armaka ile anlamı partilerını çalışan ünlü kabul edilebilir, Sivas'ın şopsiye ge\n",
            "Traceback (most recent call last):\n",
            "  File \"src/generate_unconditional_samples.py\", line 77, in <module>\n",
            "    fire.Fire(sample_model)\n",
            "  File \"/usr/local/lib/python3.6/dist-packages/fire/core.py\", line 138, in Fire\n",
            "    component_trace = _Fire(component, args, parsed_flag_args, context, name)\n",
            "  File \"/usr/local/lib/python3.6/dist-packages/fire/core.py\", line 471, in _Fire\n",
            "    target=component.__name__)\n",
            "  File \"/usr/local/lib/python3.6/dist-packages/fire/core.py\", line 675, in _CallAndUpdateTrace\n",
            "    component = fn(*varargs, **kwargs)\n",
            "  File \"src/generate_unconditional_samples.py\", line 69, in sample_model\n",
            "    out = sess.run(output)\n",
            "  File \"/usr/local/lib/python3.6/dist-packages/tensorflow/python/client/session.py\", line 950, in run\n",
            "    run_metadata_ptr)\n",
            "  File \"/usr/local/lib/python3.6/dist-packages/tensorflow/python/client/session.py\", line 1173, in _run\n",
            "    feed_dict_tensor, options, run_metadata)\n",
            "  File \"/usr/local/lib/python3.6/dist-packages/tensorflow/python/client/session.py\", line 1350, in _do_run\n",
            "    run_metadata)\n",
            "  File \"/usr/local/lib/python3.6/dist-packages/tensorflow/python/client/session.py\", line 1356, in _do_call\n",
            "    return fn(*args)\n",
            "  File \"/usr/local/lib/python3.6/dist-packages/tensorflow/python/client/session.py\", line 1341, in _run_fn\n",
            "    options, feed_dict, fetch_list, target_list, run_metadata)\n",
            "  File \"/usr/local/lib/python3.6/dist-packages/tensorflow/python/client/session.py\", line 1429, in _call_tf_sessionrun\n",
            "    run_metadata)\n",
            "KeyboardInterrupt\n"
          ]
        }
      ],
      "source": [
        "!python3 src/generate_unconditional_samples.py --model_name 345M"
      ]
    }
  ],
  "metadata": {
    "accelerator": "GPU",
    "colab": {
      "collapsed_sections": [],
      "name": "youtube_cagbal_GPT-2.ipynb",
      "provenance": [],
      "version": "0.3.2"
    },
    "kernelspec": {
      "display_name": "Python 3",
      "name": "python3"
    }
  },
  "nbformat": 4,
  "nbformat_minor": 0
}
